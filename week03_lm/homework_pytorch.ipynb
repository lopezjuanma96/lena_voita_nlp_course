{
 "cells": [
  {
   "cell_type": "markdown",
   "metadata": {},
   "source": [
    "### Homework: going neural (6 pts)\n",
    "\n",
    "We've checked out statistical approaches to language models in the last notebook. Now let's go find out what deep learning has to offer.\n",
    "\n",
    "<img src='https://raw.githubusercontent.com/yandexdataschool/nlp_course/master/resources/expanding_mind_lm_kn_3.png' width=300px>\n",
    "\n",
    "We're gonna use the same dataset as before, except this time we build a language model that's character-level, not word level. Before you go:\n",
    "* If you haven't done seminar already, use `seminar.ipynb` to download the data.\n",
    "* This homework uses Pytorch v1.x: this is [how you install it](https://pytorch.org/get-started/locally/); and that's [how you use it](https://github.com/yandexdataschool/Practical_RL/tree/9f89e98d7df7ad47f5d6c85a70a38283e06be16a/week04_%5Brecap%5D_deep_learning)."
   ]
  },
  {
   "cell_type": "code",
   "execution_count": 1,
   "metadata": {},
   "outputs": [],
   "source": [
    "import numpy as np\n",
    "import pandas as pd\n",
    "import matplotlib.pyplot as plt\n",
    "%matplotlib inline"
   ]
  },
  {
   "cell_type": "markdown",
   "metadata": {},
   "source": [
    "Working on character level means that we don't need to deal with large vocabulary or missing words. Heck, we can even keep uppercase words in text! The downside, however, is that all our sequences just got a lot longer.\n",
    "\n",
    "However, we still need special tokens:\n",
    "* Begin Of Sequence  (__BOS__) - this token is at the start of each sequence. We use it so that we always have non-empty input to our neural network. $P(x_t) = P(x_1 | BOS)$\n",
    "* End Of Sequence (__EOS__) - you guess it... this token is at the end of each sequence. The catch is that it should __not__ occur anywhere else except at the very end. If our model produces this token, the sequence is over.\n"
   ]
  },
  {
   "cell_type": "code",
   "execution_count": 2,
   "metadata": {},
   "outputs": [
    {
     "name": "stdout",
     "output_type": "stream",
     "text": [
      "[' Dual Recurrent Attention Units for Visual Question Answering ; We propose an architecture for VQA which utilizes recurrent layers to generate visual and textual attention. The memory characteristic of the proposed recurrent attention units offers a rich joint embedding of visual and textual features and enables the model to reason relations between several parts of the image and question. Our single model outperforms the first place winner on the VQA 1.0 dataset, performs within margin to the current state-\\n', ' Sequential Short-Text Classification with Recurrent and Convolutional   Neural Networks ; Recent approaches based on artificial neural networks (ANNs) have shown promising results for short-text classification. However, many short texts occur in sequences (e.g., sentences in a document or utterances in a dialog), and most existing ANN-based systems do not leverage the preceding short texts when classifying a subsequent one. In this work, we present a model based on recurrent neural networks and convolutiona\\n', ' Multiresolution Recurrent Neural Networks: An Application to Dialogue   Response Generation ; We introduce the multiresolution recurrent neural network, which extends the sequence-to-sequence framework to model natural language generation as two parallel discrete stochastic processes: a sequence of high-level coarse tokens, and a sequence of natural language tokens. There are many ways to estimate or learn the high-level coarse tokens, but we argue that a simple extraction procedure is sufficient to capture\\n', ' Learning what to share between loosely related tasks ; Multi-task learning is motivated by the observation that humans bring to bear what they know about related problems when solving new ones. Similarly, deep neural networks can profit from related tasks by sharing parameters with other networks. However, humans do not consciously decide to transfer knowledge between tasks. In Natural Language Processing (NLP), it is hard to predict if sharing will lead to improvements, particularly if tasks are only loose\\n', ' A Deep Reinforcement Learning Chatbot ; We present MILABOT: a deep reinforcement learning chatbot developed by the Montreal Institute for Learning Algorithms (MILA) for the Amazon Alexa Prize competition. MILABOT is capable of conversing with humans on popular small talk topics through both speech and text. The system consists of an ensemble of natural language generation and retrieval models, including template-based models, bag-of-words models, sequence-to-sequence neural network and latent variable neura\\n']\n"
     ]
    }
   ],
   "source": [
    "BOS, EOS = ' ', '\\n'\n",
    "\n",
    "data = pd.read_json(\"./arxivData.json\")\n",
    "lines = data.apply(lambda row: (row['title'] + ' ; ' + row['summary'])[:512], axis=1) \\\n",
    "            .apply(lambda line: BOS + line.replace(EOS, ' ') + EOS) \\\n",
    "            .tolist()\n",
    "\n",
    "# if you missed the seminar, download data here - https://yadi.sk/d/_nGyU2IajjR9-w\n",
    "\n",
    "print(lines[:5])"
   ]
  },
  {
   "cell_type": "markdown",
   "metadata": {},
   "source": [
    "Our next step is __building char-level vocabulary__. Put simply, you need to assemble a list of all unique tokens in the dataset."
   ]
  },
  {
   "cell_type": "code",
   "execution_count": 3,
   "metadata": {},
   "outputs": [
    {
     "name": "stdout",
     "output_type": "stream",
     "text": [
      "n_tokens =  136\n"
     ]
    }
   ],
   "source": [
    "# get all unique characters from lines (including capital letters and symbols)\n",
    "tokens = list(set(''.join(lines)))\n",
    "\n",
    "tokens = sorted(tokens)\n",
    "n_tokens = len(tokens)\n",
    "print ('n_tokens = ',n_tokens)\n",
    "assert 100 < n_tokens < 150\n",
    "assert BOS in tokens, EOS in tokens"
   ]
  },
  {
   "cell_type": "markdown",
   "metadata": {},
   "source": [
    "We can now assign each character with it's index in tokens list. This way we can encode a string into a torch-friendly integer vector."
   ]
  },
  {
   "cell_type": "code",
   "execution_count": 4,
   "metadata": {},
   "outputs": [],
   "source": [
    "# dictionary of character -> its identifier (index in tokens list)\n",
    "token_to_id = {token: idx for idx, token in enumerate(tokens)}"
   ]
  },
  {
   "cell_type": "code",
   "execution_count": 5,
   "metadata": {},
   "outputs": [
    {
     "name": "stdout",
     "output_type": "stream",
     "text": [
      "Seems alright!\n"
     ]
    }
   ],
   "source": [
    "assert len(tokens) == len(token_to_id), \"dictionaries must have same size\"\n",
    "for i in range(n_tokens):\n",
    "    assert token_to_id[tokens[i]] == i, \"token identifier must be it's position in tokens list\"\n",
    "\n",
    "print(\"Seems alright!\")"
   ]
  },
  {
   "cell_type": "markdown",
   "metadata": {},
   "source": [
    "Our final step is to assemble several strings in a integet matrix `[batch_size, text_length]`. \n",
    "\n",
    "The only problem is that each sequence has a different length. We can work around that by padding short sequences with extra _EOS_ or cropping long sequences. Here's how it works:"
   ]
  },
  {
   "cell_type": "code",
   "execution_count": 6,
   "metadata": {},
   "outputs": [],
   "source": [
    "def to_matrix(lines, max_len=None, pad=token_to_id[EOS], dtype=np.int64):\n",
    "    \"\"\"Casts a list of lines into torch-digestable matrix\"\"\"\n",
    "    # get the real max_len, if max_len is None then the largest line length is used, else max_len is used\n",
    "    max_len = max_len or max(map(len, lines))\n",
    "    # create matrix with padding id\n",
    "    lines_ix = np.full([len(lines), max_len], pad, dtype=dtype)\n",
    "    # go through lines\n",
    "    for i in range(len(lines)):\n",
    "        # map i-th line to id sequence line_ix\n",
    "        line_ix = list(map(token_to_id.get, lines[i][:max_len]))\n",
    "        # assign line_ix to the i-th row of matrix\n",
    "        lines_ix[i, :len(line_ix)] = line_ix\n",
    "    return lines_ix"
   ]
  },
  {
   "cell_type": "code",
   "execution_count": 7,
   "metadata": {},
   "outputs": [
    {
     "name": "stdout",
     "output_type": "stream",
     "text": [
      "[[ 1 66 67 68  0  0  0  0  0  0  0  0  0  0  0]\n",
      " [ 1 66 67 66 68 66 67 66  0  0  0  0  0  0  0]\n",
      " [ 1 66 67 68 18 19 20 21 22 23 24 25 26 17  0]]\n"
     ]
    }
   ],
   "source": [
    "#Example: cast 4 random names to matrices, pad with zeros\n",
    "dummy_lines = [\n",
    "    ' abc\\n',\n",
    "    ' abacaba\\n',\n",
    "    ' abc1234567890\\n',\n",
    "]\n",
    "print(to_matrix(dummy_lines))\n",
    "\n"
   ]
  },
  {
   "cell_type": "markdown",
   "metadata": {},
   "source": [
    "### Neural Language Model (2 points including training)\n",
    "\n",
    "Just like for N-gram LMs, we want to estimate probability of text as a joint probability of tokens (symbols this time).\n",
    "\n",
    "$$P(X) = \\prod_t P(x_t \\mid x_0, \\dots, x_{t-1}).$$ \n",
    "\n",
    "Instead of counting all possible statistics, we want to train a neural network with parameters $\\theta$ that estimates the conditional probabilities:\n",
    "\n",
    "$$ P(x_t \\mid x_0, \\dots, x_{t-1}) \\approx p(x_t \\mid x_0, \\dots, x_{t-1}, \\theta) $$\n",
    "\n",
    "\n",
    "But before we optimize, we need to define our neural network. Let's start with a fixed-window (aka convolutional) architecture:\n",
    "\n",
    "<img src='https://raw.githubusercontent.com/yandexdataschool/nlp_course/master/resources/fixed_window_lm.jpg' width=400px>\n"
   ]
  },
  {
   "cell_type": "code",
   "execution_count": 8,
   "metadata": {},
   "outputs": [],
   "source": [
    "import torch\n",
    "import torch.nn as nn\n",
    "import torch.nn.functional as F"
   ]
  },
  {
   "cell_type": "markdown",
   "metadata": {},
   "source": [
    "**Model architecture:**\n",
    "\n",
    "...\n",
    "\n",
    "Some tips:\n",
    "- you can try adding residual connections or highway (gated linear) connections, maybe adding a parameter that can be set to 'residual', 'highway' or None to __init__. Experiment!\n",
    "- you can try adding weight tying (using the same weights for embedding and softmax) for speedup. This can be included as a parameter to __init__.\n",
    "- REMEMBER: Word positioning is really important in Language Modelling, so never use MaxPooling on Language Modelling with Convolutional Networks, (unless you know what you're doing, of course)."
   ]
  },
  {
   "cell_type": "code",
   "execution_count": 9,
   "metadata": {},
   "outputs": [],
   "source": [
    "class FixedWindowLanguageModel(nn.Module):\n",
    "    def __init__(self, n_tokens=n_tokens, emb_size=16, hid_size=64, connections=None, tying=False):\n",
    "        \"\"\" \n",
    "        A fixed window model that looks on at least 5 previous symbols.\n",
    "        \n",
    "        :param n_tokens: number of tokens in the language\n",
    "        :param emb_size: size of embeddings\n",
    "        :param hid_size: size of hidden state\n",
    "        :param connections: type of connections between conv layers, str: 'residual', 'highway', None (https://discuss.pytorch.org/t/add-residual-connection/20148/3)\n",
    "        :param tying: whether to tie embeddings and linear layer weights, bool (https://discuss.pytorch.org/t/tying-weights-for-between-two-linear-layers/93747)\n",
    "\n",
    "        Note: fixed window LM is effectively performing a convolution over a sequence of words.\n",
    "        This convolution only looks on current and previous words.\n",
    "        Such convolution can be represented as a sequence of 2 operations:\n",
    "        - pad input vectors by {strides * (filter_size - 1)} zero vectors on the \"left\", do not pad right\n",
    "        - perform regular convolution with {filter_size} and {strides}\n",
    "        \n",
    "        - If you're absolutely lost, here's a hint: use nn.ZeroPad2d((NUM_LEADING_ZEROS, 0, 0, 0))\n",
    "          followed by a nn.Conv1d(..., padding=0). And yes, its okay that padding is technically \"2d\".\n",
    "        \n",
    "        \"\"\"\n",
    "        super().__init__() # initialize base class to track sub-layers, trainable variables, etc.\n",
    "        \n",
    "        # YOUR CODE - create layers/variables and any metadata you want, e.g. self.emb = L.Embedding(...)\n",
    "        \n",
    "        self.embeddings = nn.Embedding(n_tokens, emb_size)\n",
    "        self.pad1 = nn.ZeroPad2d((4, 0, 0, 0))\n",
    "        self.conv1 = nn.Conv1d(emb_size, hid_size, kernel_size=5, stride=1, padding=0)\n",
    "        self.pad2 = nn.ZeroPad2d((4, 0, 0, 0))\n",
    "        self.conv2 = nn.Conv1d(hid_size, hid_size, kernel_size=5, stride=1, padding=0)\n",
    "        self.linear = nn.Linear(hid_size, n_tokens)\n",
    "\n",
    "        # Save connections config\n",
    "        self.connections = connections\n",
    "\n",
    "        # Handle tying embeddings and (final) linear layer weights\n",
    "        if tying:\n",
    "            # check if linear and embeddings have same shape\n",
    "            assert self.linear.weight.shape == self.embeddings.weight.shape, \"can't tie weights - shapes do not match {} != {}\".format(self.linear.weight.shape, self.embeddings.weight.shape)\n",
    "            # HOW CAN I DO THIS IF SHAPES DON'T MATCH?\n",
    "            # make linear layer weights not trainable\n",
    "            self.linear.weight.requires_grad = False\n",
    "            # tie weights\n",
    "            self.linear.weight = self.embeddings.weight\n",
    "        \n",
    "        # move model to device, e.g. self.cuda()\n",
    "        self.use_cuda = torch.cuda.is_available()\n",
    "        if self.use_cuda:\n",
    "            print('Using CUDA')\n",
    "            self.cuda()\n",
    "\n",
    "        #END OF YOUR CODE\n",
    "    \n",
    "    def __call__(self, input_ix):\n",
    "        \"\"\"\n",
    "        compute language model logits given input tokens\n",
    "        :param input_ix: batch of sequences with token indices, tensor: int32[batch_size, sequence_length]\n",
    "        :returns: pre-softmax linear outputs of language model [batch_size, sequence_length, n_tokens]\n",
    "            these outputs will be used as logits to compute P(x_t | x_0, ..., x_{t - 1})\n",
    "            \n",
    "        :note: that convolutions operate with tensors of shape [batch, channels, length], while linear layers\n",
    "         and *embeddings* use [batch, length, channels] tensors. Use tensor.permute(...) to adjust shapes.\n",
    "\n",
    "        \"\"\"\n",
    "        # YOUR CODE - apply layers, see docstring above\n",
    "\n",
    "        # move model to device, e.g. self.cuda()\n",
    "        if self.use_cuda:\n",
    "            input_ix = input_ix.cuda()\n",
    "\n",
    "        x = self.embeddings(input_ix)\n",
    "        # adjust shape for conv1d, since embeddings use [batch, length, channels] and conv uses [batch, channels, length]\n",
    "        x = x.permute(0, 2, 1)\n",
    "        x = self.pad1(x)\n",
    "        x = self.conv1(x)\n",
    "        if self.connections == 'residual':\n",
    "            x = x + self.conv2(self.pad2(x))\n",
    "        elif self.connections == 'highway':\n",
    "            x = self.pad2(x)\n",
    "            x = self.conv2(x)\n",
    "            x = torch.sigmoid(x)\n",
    "            x = x * self.conv2(self.pad2(x)) + (1 - x) * x\n",
    "        else:\n",
    "            x = self.pad2(x)\n",
    "            x = self.conv2(x)\n",
    "        # adjust shape for linear, since conv1d uses [batch, channels, length] and linear uses [batch, length, channels]\n",
    "        x = x.permute(0, 2, 1)\n",
    "        x = self.linear(x)\n",
    "\n",
    "        return x # output tensor should be of shape [batch_size, sequence_length, n_tokens]\n",
    "    \n",
    "    def get_possible_next_tokens(self, prefix=BOS, temperature=1.0, max_len=100):\n",
    "        \"\"\" :returns: probabilities of next token, dict {token : prob} for all tokens \"\"\"\n",
    "        prefix_ix = torch.as_tensor(to_matrix([prefix]), dtype=torch.int64)\n",
    "        with torch.no_grad():\n",
    "            probs = torch.softmax(self(prefix_ix)[0, -1], dim=-1).cpu().numpy()  # shape: [n_tokens]\n",
    "        return dict(zip(tokens, probs))\n",
    "        "
   ]
  },
  {
   "cell_type": "code",
   "execution_count": 10,
   "metadata": {},
   "outputs": [
    {
     "name": "stdout",
     "output_type": "stream",
     "text": [
      "Using CUDA\n",
      "torch.Size([3, 15])\n",
      "torch.Size([3, 15, 136])\n",
      "Weights: ('embeddings.weight', 'conv1.weight', 'conv1.bias', 'conv2.weight', 'conv2.bias', 'linear.weight', 'linear.bias')\n"
     ]
    }
   ],
   "source": [
    "dummy_model = FixedWindowLanguageModel(connections='highway', tying=False)\n",
    "\n",
    "dummy_input_ix = torch.as_tensor(to_matrix(dummy_lines))\n",
    "dummy_logits = dummy_model(dummy_input_ix)\n",
    "\n",
    "print(dummy_input_ix.shape)\n",
    "print(dummy_logits.shape)\n",
    "\n",
    "print('Weights:', tuple(name for name, w in dummy_model.named_parameters()))"
   ]
  },
  {
   "cell_type": "code",
   "execution_count": 11,
   "metadata": {},
   "outputs": [],
   "source": [
    "assert isinstance(dummy_logits, torch.Tensor)\n",
    "assert dummy_logits.shape == (len(dummy_lines), max(map(len, dummy_lines)), n_tokens), \"please check output shape\"\n",
    "assert np.all(np.isfinite(dummy_logits.data.cpu().numpy())), \"inf/nan encountered\"\n",
    "assert not np.allclose(dummy_logits.data.cpu().numpy().sum(-1), 1), \"please predict linear outputs, don't use softmax (maybe you've just got unlucky)\""
   ]
  },
  {
   "cell_type": "code",
   "execution_count": 12,
   "metadata": {},
   "outputs": [],
   "source": [
    "# test for lookahead\n",
    "dummy_input_ix_2 = torch.as_tensor(to_matrix([line[:3] + 'e' * (len(line) - 3) for line in dummy_lines]))\n",
    "dummy_logits_2 = dummy_model(dummy_input_ix_2)\n",
    "\n",
    "assert torch.allclose(dummy_logits[:, :3], dummy_logits_2[:, :3]), \"your model's predictions depend on FUTURE tokens. \" \\\n",
    "    \" Make sure you don't allow any layers to look ahead of current token.\" \\\n",
    "    \" You can also get this error if your model is not deterministic (e.g. dropout). Disable it for this test.\""
   ]
  },
  {
   "cell_type": "markdown",
   "metadata": {},
   "source": [
    "We can now tune our network's parameters to minimize categorical crossentropy over training dataset $D$:\n",
    "\n",
    "$$ L = {\\frac1{|D|}} \\sum_{X \\in D} \\sum_{x_i \\in X} - \\log p(x_t \\mid x_1, \\dots, x_{t-1}, \\theta) $$\n",
    "\n",
    "As usual with with neural nets, this optimization is performed via stochastic gradient descent with backprop.  One can also note that minimizing crossentropy is equivalent to minimizing model __perplexity__, KL-divergence or maximizng log-likelihood."
   ]
  },
  {
   "cell_type": "code",
   "execution_count": 13,
   "metadata": {},
   "outputs": [
    {
     "name": "stdout",
     "output_type": "stream",
     "text": [
      "matrix:\n",
      " [[ 1 66 67 68  0  0  0  0  0  0  0  0  0  0  0]\n",
      " [ 1 66 67 66 68 66 67 66  0  0  0  0  0  0  0]\n",
      " [ 1 66 67 68 18 19 20 21 22 23 24 25 26 17  0]]\n",
      "mask: [[1 1 1 1 1 0 0 0 0 0 0 0 0 0 0]\n",
      " [1 1 1 1 1 1 1 1 1 0 0 0 0 0 0]\n",
      " [1 1 1 1 1 1 1 1 1 1 1 1 1 1 1]]\n",
      "lengths: [ 5  9 15]\n"
     ]
    }
   ],
   "source": [
    "def compute_mask(input_ix, eos_ix=token_to_id[EOS]):\n",
    "    \"\"\" compute a boolean mask that equals \"1\" until first EOS (including that EOS) \"\"\"\n",
    "    return F.pad(torch.cumsum(input_ix == eos_ix, dim=-1)[..., :-1] < 1, pad=(1, 0, 0, 0), value=True)\n",
    "\n",
    "print('matrix:\\n', dummy_input_ix.numpy())\n",
    "print('mask:', compute_mask(dummy_input_ix).to(torch.int32).cpu().numpy())\n",
    "print('lengths:', compute_mask(dummy_input_ix).sum(-1).cpu().numpy())"
   ]
  },
  {
   "cell_type": "code",
   "execution_count": 14,
   "metadata": {},
   "outputs": [],
   "source": [
    "def compute_loss(model, input_ix):\n",
    "    \"\"\"\n",
    "    :param model: language model that can compute next token logits given token indices\n",
    "    :param input ix: int32 matrix of tokens, shape: [batch_size, length]; padded with eos_ix\n",
    "    :returns: scalar loss function, mean crossentropy over non-eos tokens\n",
    "    \"\"\"\n",
    "    input_ix = torch.as_tensor(input_ix, dtype=torch.int64)\n",
    "\n",
    "    logits = model(input_ix[:, :-1])\n",
    "    reference_answers = input_ix[:, 1:]\n",
    "    if model.use_cuda:\n",
    "        reference_answers = reference_answers.cuda()\n",
    "\n",
    "    # Your task: implement loss function as per formula above\n",
    "    # your loss should only be computed on actual tokens, excluding padding\n",
    "    # predicting actual tokens and first EOS do count. Subsequent EOS-es don't\n",
    "    # you may or may not want to use the compute_mask function from above.\n",
    "    \n",
    "    # YOUR CODE\n",
    "    mask = compute_mask(reference_answers)\n",
    "    if model.use_cuda:\n",
    "        mask = mask.cuda()\n",
    "\n",
    "    loss = F.cross_entropy(logits[mask], reference_answers[mask])\n",
    "    \n",
    "    return loss"
   ]
  },
  {
   "cell_type": "code",
   "execution_count": 15,
   "metadata": {},
   "outputs": [],
   "source": [
    "loss_1 = compute_loss(dummy_model, to_matrix(dummy_lines, max_len=15))\n",
    "loss_2 = compute_loss(dummy_model, to_matrix(dummy_lines, max_len=16))\n",
    "assert (np.ndim(loss_1) == 0) and (0 < loss_1 < 100), \"loss must be a positive scalar\"\n",
    "assert torch.allclose(loss_1, loss_2), 'do not include  AFTER first EOS into loss. '\\\n",
    "    'Hint: use compute_mask. Beware +/-1 errors. And be careful when averaging!'"
   ]
  },
  {
   "cell_type": "markdown",
   "metadata": {},
   "source": [
    "### Evaluation\n",
    "\n",
    "You will need two functions: one to compute test loss and another to generate samples. For your convenience, we implemented them both in your stead."
   ]
  },
  {
   "cell_type": "code",
   "execution_count": 16,
   "metadata": {},
   "outputs": [],
   "source": [
    "def score_lines(model, dev_lines, batch_size, use_cuda=False):\n",
    "    \"\"\" computes average loss over the entire dataset \"\"\"\n",
    "    dev_loss_num, dev_loss_len = 0., 0.\n",
    "    with torch.no_grad():\n",
    "        for i in range(0, len(dev_lines), batch_size):\n",
    "            batch_ix = to_matrix(dev_lines[i: i + batch_size])\n",
    "            dev_loss_num += compute_loss(model, batch_ix).item() * len(batch_ix)\n",
    "            dev_loss_len += len(batch_ix)\n",
    "    return dev_loss_num / dev_loss_len\n",
    "\n",
    "def generate(model, prefix=BOS, temperature=1.0, max_len=100):\n",
    "    \"\"\"\n",
    "    Samples output sequence from probability distribution obtained by model\n",
    "    :param temperature: samples proportionally to model probabilities ^ temperature\n",
    "        if temperature == 0, always takes most likely token. Break ties arbitrarily.\n",
    "    \"\"\"\n",
    "    with torch.no_grad():\n",
    "        while True:\n",
    "            token_probs = model.get_possible_next_tokens(prefix)\n",
    "            tokens, probs = zip(*token_probs.items())\n",
    "            if temperature == 0:\n",
    "                next_token = tokens[np.argmax(probs)]\n",
    "            else:\n",
    "                probs = np.array([p ** (1. / temperature) for p in probs])\n",
    "                probs /= sum(probs)\n",
    "                next_token = np.random.choice(tokens, p=probs)\n",
    "\n",
    "            prefix += next_token\n",
    "            if next_token == EOS or len(prefix) > max_len: break\n",
    "    return prefix"
   ]
  },
  {
   "cell_type": "markdown",
   "metadata": {},
   "source": [
    "### Training loop\n",
    "\n",
    "Finally, let's train our model on minibatches of data"
   ]
  },
  {
   "cell_type": "code",
   "execution_count": 17,
   "metadata": {},
   "outputs": [
    {
     "name": "stdout",
     "output_type": "stream",
     "text": [
      "Using CUDA\n",
      "Sample before training: Bridging$9DãqÉ`T\n",
      "\n"
     ]
    }
   ],
   "source": [
    "from sklearn.model_selection import train_test_split\n",
    "train_lines, dev_lines = train_test_split(lines, test_size=0.25, random_state=42)\n",
    "\n",
    "batch_size = 256\n",
    "score_dev_every = 250\n",
    "train_history, dev_history = [], []\n",
    "model = FixedWindowLanguageModel()\n",
    "opt = torch.optim.Adam(model.parameters())\n",
    "\n",
    "# score untrained model\n",
    "dev_history.append((0, score_lines(model, dev_lines, batch_size)))\n",
    "print(\"Sample before training:\", generate(model, 'Bridging'))"
   ]
  },
  {
   "cell_type": "code",
   "execution_count": 18,
   "metadata": {},
   "outputs": [
    {
     "data": {
      "image/png": "[encoded data removed]",
      "text/plain": [
       "<Figure size 640x480 with 1 Axes>"
      ]
     },
     "metadata": {},
     "output_type": "display_data"
    },
    {
     "name": "stderr",
     "output_type": "stream",
     "text": [
      "100%|██████████| 5000/5000 [02:41<00:00, 30.97it/s]\n"
     ]
    }
   ],
   "source": [
    "from IPython.display import clear_output\n",
    "from random import sample\n",
    "from tqdm import trange\n",
    "\n",
    "generations = []\n",
    "\n",
    "for i in trange(len(train_history), 5000):\n",
    "    # get batch of data\n",
    "    batch = to_matrix(sample(train_lines, batch_size))\n",
    "    \n",
    "    # compute loss\n",
    "    loss_i = compute_loss(model, batch)\n",
    "    \n",
    "    # make gradient step\n",
    "    opt.zero_grad()\n",
    "    loss_i.backward()\n",
    "    opt.step()\n",
    "    \n",
    "    # log train loss history\n",
    "    train_history.append((i, loss_i.item()))\n",
    "    \n",
    "    if (i + 1) % 500 == 0:\n",
    "        clear_output(True)\n",
    "        plt.scatter(*zip(*train_history), alpha=0.1, label='train_loss')\n",
    "        if len(dev_history):\n",
    "            plt.plot(*zip(*dev_history), color='red', label='dev_loss')\n",
    "        plt.legend()\n",
    "        plt.grid()\n",
    "        plt.show()\n",
    "        # print(\"Generated examples (tau=0.5):\")\n",
    "        for _ in range(3):\n",
    "            # print(generate(model, temperature=0.5))\n",
    "            \n",
    "            # Since clear_output doesn't work in VSCode Ipython, we'll save\n",
    "            # all the generations in a variable and print them later\n",
    "            generations.append((i, generate(model, temperature=0.5)))\n",
    "\n",
    "    if (i + 1) % score_dev_every == 0:\n",
    "        # print(\"Scoring dev...\")\n",
    "        dev_history.append((i, score_lines(model, dev_lines, batch_size)))\n",
    "        # print('#%i Dev loss: %.3f' % dev_history[-1])\n"
   ]
  },
  {
   "cell_type": "code",
   "execution_count": 19,
   "metadata": {},
   "outputs": [
    {
     "name": "stdout",
     "output_type": "stream",
     "text": [
      "Epoch#499 Generated example (tau=0.5):\n",
      " SANGofin are the and and as thowie tho strece tome todellection in thementin the tha d Dules inte th\n",
      "Epoch#499 Generated example (tau=0.5):\n",
      " oncture anded rapeon th ing uring orall anderaction the the the sure poral meqwerkute torsis ing the\n",
      "Epoch#499 Generated example (tau=0.5):\n",
      " Dhed papsint of the trig thow sexs and aste the of imatho s at cove con the the tere pored andiction\n",
      "Epoch#999 Generated example (tau=0.5):\n",
      " Exporveric and te tore ine and tin  aperaling werk on the tion and anced ancomplod th ion lations fu\n",
      "Epoch#999 Generated example (tau=0.5):\n",
      " Bobjection as on ded ingule sed anction al ared ation le work on thor pericimans inat ond ande the t\n",
      "Epoch#999 Generated example (tau=0.5):\n",
      " Conte Mang ion of thate tor mathe s presets in al entero the seren the sen orevilicring mentis se fo\n",
      "Epoch#1499 Generated example (tau=0.5):\n",
      " for ancompor of mentor ale ropulsing ar sestita no porvelation aral teresting in arvigit onewhid tov\n",
      "Epoch#1499 Generated example (tau=0.5):\n",
      " Cons ;ure ing apervere ter cemponting the thow th ke thed tort of thatien arim the s the areprent on\n",
      "Epoch#1499 Generated example (tau=0.5):\n",
      " Lo ghathe procommation and ce tod seag tima medelats formone tralization th arean anty cor seation t\n",
      "Epoch#1999 Generated example (tau=0.5):\n",
      " Sumele robsed en of lating arale dumenting as ande tovelus to the ardiene th ing res uncoune coresti\n",
      "Epoch#1999 Generated example (tau=0.5):\n",
      " Aralizen thations and wer bere the ting aral sed biend for imed for Deforment on for githe moral for\n",
      "Epoch#1999 Generated example (tau=0.5):\n",
      " Probliment deas bal of latel precomal intial d The the sean inge thing arices ancor and ancorse form\n",
      "Epoch#2499 Generated example (tau=0.5):\n",
      " Procris ant we probitit on sechive lay chine for arisign the propes an ingention ; Thesing tho the s\n",
      "Epoch#2499 Generated example (tau=0.5):\n",
      " Trachise and bod dithes for thint ars ancenting atis aral we proged astor the s arecols in articis a\n",
      "Epoch#2499 Generated example (tau=0.5):\n",
      " Salule rom arizetro ; Inc ural ion onchive t pectict of chate ale reation the surgen for tof imation\n",
      "Epoch#2999 Generated example (tau=0.5):\n",
      " Conder at on the mprestins and and Nes tame the s are fict on ion mpuris monel the deronte tha con b\n",
      "Epoch#2999 Generated example (tau=0.5):\n",
      " Anturict on thabl mouthas if rate ancalle works (DNN) an Ne heatsed the resticen the perection and a\n",
      "Epoch#2999 Generated example (tau=0.5):\n",
      " The ing and fich porecact inge and are proded consed, le wirg of therecond thas  forment ar we ches \n",
      "Epoch#3499 Generated example (tau=0.5):\n",
      " Falinge th inis an work the tha mentiont for dectise fingouthin the coramming the Cones of te tare t\n",
      "Epoch#3499 Generated example (tau=0.5):\n",
      " Acall ane prescomol ar bobed the sed for teremantig sears an werk tion abe tith ing if rmalti-bestat\n",
      "Epoch#3499 Generated example (tau=0.5):\n",
      " Dica non the destorand a proplomant an raperencalsing al wed he sequesting an ing at onsto-lang whed\n",
      "Epoch#3999 Generated example (tau=0.5):\n",
      " Relans wh chasces inges bale entre and thing and thing larks ing aplontimant orally ing mations ble \n",
      "Epoch#3999 Generated example (tau=0.5):\n",
      " A prapestict ox and iangare conste  formathin boblly thing porating porem thin are the conorits ar d\n",
      "Epoch#3999 Generated example (tau=0.5):\n",
      " The of foreting of chare tion med on the deas and iof are the arale tof cof the reatime wisk or pres\n",
      "Epoch#4499 Generated example (tau=0.5):\n",
      " Antres ; We proformanto mentiven al werks wh ches prestron for ther pucecrenend ommont an wh whed ch\n",
      "Epoch#4499 Generated example (tau=0.5):\n",
      " A nongning the s paction s pheverical se for the tions for teat ar intion ing of rmane tof cravens i\n",
      "Epoch#4499 Generated example (tau=0.5):\n",
      " A Aplicaly enturen tho unstis and arne werks bous on the thag semparis tha centien ofution the prech\n",
      "Epoch#4999 Generated example (tau=0.5):\n",
      " Poruta d and an er of and nevering the os fow th he the mathe peprobe mpares on thes wof le work lat\n",
      "Epoch#4999 Generated example (tau=0.5):\n",
      " Lemonting nerectimation se thon the chaperal or whe dation of coumede tite se foration the ofon tor \n",
      "Epoch#4999 Generated example (tau=0.5):\n",
      " Ante th ion mathe deration ing Des raplention that onsher sich is preate s of imethen the l areinger\n"
     ]
    }
   ],
   "source": [
    "for i, gen in generations:\n",
    "    print(f'Epoch#{i} Generated example (tau=0.5):')\n",
    "    print(gen)"
   ]
  },
  {
   "cell_type": "code",
   "execution_count": 20,
   "metadata": {},
   "outputs": [
    {
     "name": "stdout",
     "output_type": "stream",
     "text": [
      "Final dev loss: 2.1664359749584663\n",
      " Deathe propedel s ane chis the te beed for the semale nos ant ompltion and ractime therreacising ure\n",
      " A Nenes an Reasing abient an daplicing if ompentar ansers ; The cesprobed to thmintice fontimate des\n",
      " Extere thethe stase the anderaly an wo d Deesentig the corel conver ans and is whed the sution int o\n",
      " Colle Converatis and he fereding se the seapling ine form thes of the ala nor cemente for phithe the\n",
      " Forisimation ar atar ing the ss oreth arthe s alenition ar andemithin arablet or preve tovely romsti\n",
      " Evaly be cher andew th hewhe d this thin thor prabede son se forined in are tion maching spormath d \n",
      " A Baying ; In purals dat arale cones foris an uricl bons workstart or ecture sestrang al arpermane t\n",
      " A thorist of the compervere the simaling ing madion and onale tous inat deppreatien lation and alest\n",
      " Dice sespretice sfor ation ne thes of as pore soptim Col ofury ine thace the sion and grementarne fo\n",
      " Montion and formpored for the cones for ale and are phes the s ale serte the complexinte tha d and e\n"
     ]
    }
   ],
   "source": [
    "assert np.mean(train_history[:10], axis=0)[1] > np.mean(train_history[-10:], axis=0)[1], \"The model didn't converge.\"\n",
    "print(\"Final dev loss:\", dev_history[-1][-1])\n",
    "\n",
    "for i in range(10):\n",
    "    print(generate(model, temperature=0.5))"
   ]
  },
  {
   "cell_type": "markdown",
   "metadata": {},
   "source": [
    "### RNN Language Models (3 points including training)\n",
    "\n",
    "Fixed-size architectures are reasonably good when capturing short-term dependencies, but their design prevents them from capturing any signal outside their window. We can mitigate this problem by using a __recurrent neural network__:\n",
    "\n",
    "$$ h_0 = \\vec 0 ; \\quad h_{t+1} = RNN(x_t, h_t) $$\n",
    "\n",
    "$$ p(x_t \\mid x_0, \\dots, x_{t-1}, \\theta) = dense_{softmax}(h_{t-1}) $$\n",
    "\n",
    "Such model processes one token at a time, left to right, and maintains a hidden state vector between them. Theoretically, it can learn arbitrarily long temporal dependencies given large enough hidden size.\n",
    "\n",
    "<img src='https://raw.githubusercontent.com/yandexdataschool/nlp_course/master/resources/rnn_lm.jpg' width=480px>"
   ]
  },
  {
   "cell_type": "code",
   "execution_count": 28,
   "metadata": {},
   "outputs": [],
   "source": [
    "class RNNLanguageModel(nn.Module):\n",
    "    def __init__(self, n_tokens=n_tokens, emb_size=16, hid_size=256, bidirectional=False):\n",
    "        \"\"\" \n",
    "        Build a recurrent language model.\n",
    "        You are free to choose anything you want, but the recommended architecture is\n",
    "        - token embeddings\n",
    "        - one or more LSTM/GRU layers with hid size\n",
    "        - linear layer to predict logits\n",
    "        \n",
    "        :note: if you use nn.RNN/GRU/LSTM, make sure you specify batch_first=True\n",
    "         With batch_first, your model operates with tensors of shape [batch_size, sequence_length, num_units]\n",
    "         Also, please read the docs carefully: they don't just return what you want them to return :)\n",
    "\n",
    "        :param n_tokens: number of tokens in the language\n",
    "        :param emb_size: size of embeddings\n",
    "        :param hid_size: size of hidden state of lstm/gru\n",
    "        :param bidirectional: whether to use bidirectional rnn or not, it is not that useful here since we are predicting forward,\n",
    "            but I was just testing the architechture. It is useful for tasks like NER or classification.\n",
    "        \"\"\"\n",
    "        super().__init__() # initialize base class to track sub-layers, trainable variables, etc.\n",
    "        \n",
    "        # YOUR CODE - create layers/variables/etc\n",
    "        \n",
    "        self.embed = nn.Embedding(n_tokens, emb_size)\n",
    "        self.bidirectional = bidirectional\n",
    "        self.rnn1 = nn.LSTM(emb_size, hid_size, batch_first=True, bidirectional=self.bidirectional)\n",
    "        self.linear = nn.Linear(hid_size, n_tokens)\n",
    "\n",
    "        if torch.cuda.is_available():\n",
    "            print('Using CUDA')\n",
    "            self.use_cuda = True\n",
    "            self.cuda()\n",
    "        else:\n",
    "            self.use_cuda = False\n",
    "        \n",
    "        #END OF YOUR CODE\n",
    "    \n",
    "    def __call__(self, input_ix):\n",
    "        \"\"\"\n",
    "        compute language model logits given input tokens\n",
    "        :param input_ix: batch of sequences with token indices, tensor: int32[batch_size, sequence_length]\n",
    "        :returns: pre-softmax linear outputs of language model [batch_size, sequence_length, n_tokens]\n",
    "            these outputs will be used as logits to compute P(x_t | x_0, ..., x_{t - 1})\n",
    "        \"\"\"\n",
    "        # YOUR CODE - apply layers, see docstring above\n",
    "\n",
    "        if self.use_cuda:\n",
    "            input_ix = input_ix.cuda()\n",
    "\n",
    "        x = self.embed(input_ix)\n",
    "        x, (h1, c1) = self.rnn1(x)\n",
    "        \n",
    "        # average if bidirectional outputs\n",
    "        if self.bidirectional:\n",
    "            half_point = x.shape[-1] // 2\n",
    "            x = (x[:, :, :half_point] + x[:, :, half_point:]) / 2\n",
    "        \n",
    "        x = self.linear(x)\n",
    "\n",
    "        # output tensor should be of shape [batch_size, sequence_length, n_tokens]\n",
    "        return x \n",
    "    \n",
    "    def get_possible_next_tokens(self, prefix=BOS, temperature=1.0, max_len=100):\n",
    "        \"\"\" :returns: probabilities of next token, dict {token : prob} for all tokens \"\"\"\n",
    "        prefix_ix = torch.as_tensor(to_matrix([prefix]), dtype=torch.int64)\n",
    "        with torch.no_grad():\n",
    "            probs = torch.softmax(self(prefix_ix)[0, -1], dim=-1).cpu().numpy()  # shape: [n_tokens]\n",
    "        return dict(zip(tokens, probs))\n",
    "        "
   ]
  },
  {
   "cell_type": "code",
   "execution_count": 31,
   "metadata": {},
   "outputs": [
    {
     "name": "stdout",
     "output_type": "stream",
     "text": [
      "Using CUDA\n",
      "Weights: ('embed.weight', 'rnn1.weight_ih_l0', 'rnn1.weight_hh_l0', 'rnn1.bias_ih_l0', 'rnn1.bias_hh_l0', 'linear.weight', 'linear.bias')\n"
     ]
    }
   ],
   "source": [
    "model = RNNLanguageModel()\n",
    "\n",
    "dummy_input_ix = torch.as_tensor(to_matrix(dummy_lines))\n",
    "dummy_logits = model(dummy_input_ix)\n",
    "\n",
    "assert isinstance(dummy_logits, torch.Tensor)\n",
    "assert dummy_logits.shape == (len(dummy_lines), max(map(len, dummy_lines)), n_tokens), \"please check output shape\"\n",
    "assert not np.allclose(dummy_logits.cpu().data.numpy().sum(-1), 1), \"please predict linear outputs, don't use softmax (maybe you've just got unlucky)\"\n",
    "print('Weights:', tuple(name for name, w in model.named_parameters()))"
   ]
  },
  {
   "cell_type": "code",
   "execution_count": 32,
   "metadata": {},
   "outputs": [],
   "source": [
    "# test for lookahead\n",
    "dummy_input_ix_2 = torch.as_tensor(to_matrix([line[:3] + 'e' * (len(line) - 3) for line in dummy_lines]))\n",
    "dummy_logits_2 = model(dummy_input_ix_2)\n",
    "\n",
    "assert torch.allclose(dummy_logits[:, :3], dummy_logits_2[:, :3]), \"your model's predictions depend on FUTURE tokens. \" \\\n",
    "    \" Make sure you don't allow any layers to look ahead of current token.\" \\\n",
    "    \" You can also get this error if your model is not deterministic (e.g. dropout). Disable it for this test.\""
   ]
  },
  {
   "cell_type": "markdown",
   "metadata": {},
   "source": [
    "### RNN training\n",
    "\n",
    "Our RNN language model should optimize the same loss function as fixed-window model. But there's a catch. Since RNN recurrently multiplies gradients through many time-steps, gradient values may explode, [ruining](https://raw.githubusercontent.com/yandexdataschool/nlp_course/master/resources/nan.jpg) your model.\n",
    "The common solution to that problem is to clip gradients either [individually](https://www.tensorflow.org/versions/r2.0/api_docs/python/tf/clip_by_value) or [globally](https://www.tensorflow.org/versions/r2.0/api_docs/python/tf/clip_by_global_norm).\n",
    "\n",
    "Your task here is to implement the training code that minimizes the loss function. If you encounter large loss fluctuations during training, please add [gradient clipping](https://pytorch.org/docs/stable/generated/torch.nn.utils.clip_grad_norm_.html) using urls above. But its **not necessary** to use gradient clipping if you don't need it.\n",
    "\n",
    "_Note: gradient clipping is not exclusive to RNNs. Convolutional networks with enough depth often suffer from the same issue._"
   ]
  },
  {
   "cell_type": "code",
   "execution_count": 47,
   "metadata": {},
   "outputs": [
    {
     "name": "stdout",
     "output_type": "stream",
     "text": [
      "Using CUDA\n",
      "Sample before training: Bridging%vrα5X&6\n",
      "\n"
     ]
    }
   ],
   "source": [
    "batch_size = 64         # <-- please tune batch size to fit your CPU/GPU configuration\n",
    "score_dev_every = 250\n",
    "train_history, dev_history = [], []\n",
    "\n",
    "model = RNNLanguageModel()\n",
    "opt = torch.optim.Adam(model.parameters())\n",
    "\n",
    "gradient_clipping = 1.0  # if you're curious about it, read https://towardsdatascience.com/what-is-gradient-clipping-b8e815cdfb48\n",
    "\n",
    "generations = []\n",
    "\n",
    "# score untrained model\n",
    "dev_history.append((0, score_lines(model, dev_lines, batch_size)))\n",
    "print(\"Sample before training:\", generate(model, 'Bridging'))"
   ]
  },
  {
   "cell_type": "code",
   "execution_count": 48,
   "metadata": {},
   "outputs": [
    {
     "data": {
      "image/png": "[encoded data removed]",
      "text/plain": [
       "<Figure size 640x480 with 1 Axes>"
      ]
     },
     "metadata": {},
     "output_type": "display_data"
    },
    {
     "name": "stderr",
     "output_type": "stream",
     "text": [
      "100%|██████████| 5000/5000 [04:27<00:00, 18.72it/s]\n"
     ]
    }
   ],
   "source": [
    "from IPython.display import clear_output\n",
    "from random import sample\n",
    "from tqdm import trange\n",
    "\n",
    "for i in trange(len(train_history), 5000):\n",
    "    batch = to_matrix(sample(train_lines, batch_size))\n",
    "    \n",
    "    # YOUR CODE: remember grad clipping using:\n",
    "    # https://pytorch.org/docs/stable/generated/torch.nn.utils.clip_grad_norm_.html\n",
    "    # (maybe read this too: https://stackoverflow.com/questions/54716377/how-to-do-gradient-clipping-in-pytorch)\n",
    "\n",
    "    # compute loss    \n",
    "    loss_i = compute_loss(model, batch)\n",
    "\n",
    "    # prepare gradient step\n",
    "    opt.zero_grad()\n",
    "    loss_i.backward()\n",
    "\n",
    "    # clip gradients\n",
    "    torch.nn.utils.clip_grad_norm_(model.parameters(), gradient_clipping)\n",
    "\n",
    "    # make gradient step\n",
    "    opt.step()\n",
    "\n",
    "    # AFTER FINISHING, COMPARE TO CONV TRAINING PROCESS ABOVE\n",
    "\n",
    "    # log training stats\n",
    "    train_history.append((i, float(loss_i)))\n",
    "    \n",
    "    if (i + 1) % 500 == 0:\n",
    "        clear_output(True)\n",
    "        plt.scatter(*zip(*train_history), alpha=0.1, label='train_loss')\n",
    "        if len(dev_history):\n",
    "            plt.plot(*zip(*dev_history), color='red', label='dev_loss')\n",
    "        plt.legend(); plt.grid(); plt.show()\n",
    "        # print(\"Generated examples (tau=0.5):\")\n",
    "        for _ in range(3):\n",
    "            # print(generate(model, temperature=0.5))\n",
    "            \n",
    "            # Since clear_output doesn't work in VSCode Ipython, we'll save\n",
    "            # all the generations in a variable and print them later\n",
    "            generations.append((i, generate(model, temperature=0.5)))\n",
    "    \n",
    "    if (i + 1) % score_dev_every == 0:\n",
    "        # print(\"Scoring dev...\")\n",
    "        dev_history.append((i, score_lines(model, dev_lines, batch_size)))\n",
    "        # print('#%i Dev loss: %.3f' % dev_history[-1])\n"
   ]
  },
  {
   "cell_type": "code",
   "execution_count": 49,
   "metadata": {},
   "outputs": [
    {
     "name": "stdout",
     "output_type": "stream",
     "text": [
      "Final dev loss: 1.0982375092622711\n",
      " The Solving Random Factorization ; In this paper, we consider the proposed approach for an important\n",
      " Graphical Visual Propagation ; The proposed method to the full structures of the large scale problem\n",
      " A Fast Speer Learning for Improvement Methods for Supervised   Consideration ; This paper proposes t\n",
      " Computer Estimation in Learning ; The context of interaction to the probabilistic space of the param\n",
      " Deep Learning in Multi-        Partial Bayesian Models ; We propose a novel transitional method for \n",
      " An and   Approximation of Multiplicative Tracking for Supervised Method for Convolutional Neural Net\n",
      " Similar Detection ; This paper proposes a function of the learning performance is some about the dat\n",
      " A System Sequence Matrix Translation ; We present a novel procedures for classification and state of\n",
      " Segmentation of Scene Recognition for Short Segmentation ; Prediction of the prior results or design\n",
      " Automatic in the Sensor   Component Computation ; We present a system to automatically considered wi\n"
     ]
    }
   ],
   "source": [
    "assert np.mean(train_history[:10], axis=0)[1] > np.mean(train_history[-10:], axis=0)[1], \"The model didn't converge.\"\n",
    "print(\"Final dev loss:\", dev_history[-1][-1])\n",
    "for i in range(10):\n",
    "    print(generate(model, temperature=0.5))"
   ]
  },
  {
   "cell_type": "code",
   "execution_count": 50,
   "metadata": {},
   "outputs": [
    {
     "name": "stdout",
     "output_type": "stream",
     "text": [
      "Epoch#499 Generated example (tau=0.5):\n",
      " Wending of stese the the entoratial we and for the problems on the propors and the inters and the in\n",
      "Epoch#499 Generated example (tau=0.5):\n",
      " Mevering Ancangoriths as of problems as to stat sumplongs, and the partis and and reeponing thes in \n",
      "Epoch#499 Generated example (tau=0.5):\n",
      " Anting reviling in approint applition and the problem from the estical of the and to sual of Nare as\n",
      "Epoch#999 Generated example (tau=0.5):\n",
      " A Retation ; Ontractical Network A Sets Mathor (CNN) demansing transsistic segmences for a semble de\n",
      "Epoch#999 Generated example (tau=0.5):\n",
      " Models ; The consistic and the dones in the ensistical train to dependance in object in the classifi\n",
      "Epoch#999 Generated example (tau=0.5):\n",
      " A Semantic Automatic Propose Settence ; The interation and setponing to the problem of the represent\n",
      "Epoch#1499 Generated example (tau=0.5):\n",
      " The Fact Exploration ; The region the problem of the generalized show that a selection and state-of \n",
      "Epoch#1499 Generated example (tau=0.5):\n",
      " Parginal Networks ; In this paper we present a large standing data setwork with acomatic and context\n",
      "Epoch#1499 Generated example (tau=0.5):\n",
      " Semantic Networks ; The results are a signing two controls for convolutional network for the novel a\n",
      "Epoch#1999 Generated example (tau=0.5):\n",
      " An Epproach Network for Algorithm ; The automatically recognition in the prediction of the matrix se\n",
      "Epoch#1999 Generated example (tau=0.5):\n",
      " System ; The representation of the from between an onlessing the a constance for prediction of the s\n",
      "Epoch#1999 Generated example (tau=0.5):\n",
      " Heuranching for such as a linear computational correstance of and a robust encoder to the to the und\n",
      "Epoch#2499 Generated example (tau=0.5):\n",
      " Sensor Facilitating ; The parameter problem of specific framework for deep neural network is a contr\n",
      "Epoch#2499 Generated example (tau=0.5):\n",
      " A Recognition Relations ; In this paper we propose a signals and effect the approach to be control o\n",
      "Epoch#2499 Generated example (tau=0.5):\n",
      " Structured Simulation ; One of the first of the neural network is problems that it of a conditional \n",
      "Epoch#2999 Generated example (tau=0.5):\n",
      " Observations of the subset of statistical method to learning the uniform with the proposed and in th\n",
      "Epoch#2999 Generated example (tau=0.5):\n",
      " Segmentation of Sparsity ; This paper proposes a new classification of a set of learning a selection\n",
      "Epoch#2999 Generated example (tau=0.5):\n",
      " A Statistical Set of Shape Transsition ; In this paper, we propose a number of model and components \n",
      "Epoch#3499 Generated example (tau=0.5):\n",
      " Modeling ; This paper presents a structured from an experimental due to can rely on the content of t\n",
      "Epoch#3499 Generated example (tau=0.5):\n",
      " A Network ; In this paper, we research the article of the training is as well as a such as a correct\n",
      "Epoch#3499 Generated example (tau=0.5):\n",
      " A Sensing and Sampled Neural Network ; A constraint of problems for information in a significant pro\n",
      "Epoch#3999 Generated example (tau=0.5):\n",
      " A Neural Networks ; In this paper, we propose a novel performance of a continuous relations to relia\n",
      "Epoch#3999 Generated example (tau=0.5):\n",
      " A Probabilistic Recognition Based on Embedding to Deep Neural Network for           The source ; The\n",
      "Epoch#3999 Generated example (tau=0.5):\n",
      " A Structured Semantic Temporal Machine Learning ; We present a novel approach to a computational neu\n",
      "Epoch#4499 Generated example (tau=0.5):\n",
      " Information Framework for Automatic Attention ; In this paper, we propose a novel sensory is the blo\n",
      "Epoch#4499 Generated example (tau=0.5):\n",
      " Stochastic Sensing for Semantic Interactive Analysis for Semantic Structure ; We propose a novel met\n",
      "Epoch#4499 Generated example (tau=0.5):\n",
      " A Convolutional Networks for Deep Learning ; We propose a novel approach to sequence is a text of si\n",
      "Epoch#4999 Generated example (tau=0.5):\n",
      " The Machine Translation ; We study the constraint of the statistical models that are such as a struc\n",
      "Epoch#4999 Generated example (tau=0.5):\n",
      " A Generalized Segmentation Using Diagnosis ; In this paper, we propose a new point of a set of the t\n",
      "Epoch#4999 Generated example (tau=0.5):\n",
      " The Convolutional Neural Network ; Sparse classification algorithm to produce a recognition of the s\n"
     ]
    }
   ],
   "source": [
    "for i, gen in generations:\n",
    "    print(f'Epoch#{i} Generated example (tau=0.5):')\n",
    "    print(gen)"
   ]
  },
  {
   "cell_type": "markdown",
   "metadata": {},
   "source": [
    "### Alternative sampling strategies (1 point)\n",
    "\n",
    "So far we've sampled tokens from the model in proportion with their probability.\n",
    "However, this approach can sometimes generate nonsense words due to the fact that softmax probabilities of these words are never exactly zero. This issue can be somewhat mitigated with sampling temperature, but low temperature harms sampling diversity. Can we remove the nonsense words without sacrificing diversity? __Yes, we can!__ But it takes a different sampling strategy.\n",
    "\n",
    "__Top-k sampling:__ on each step, sample the next token from __k most likely__ candidates from the language model.\n",
    "\n",
    "Suppose $k=3$ and the token probabilities are $p=[0.1, 0.35, 0.05, 0.2, 0.3]$. You first need to select $k$ most likely words and set the probability of the rest to zero: $\\hat p=[0.0, 0.35, 0.0, 0.2, 0.3]$ and re-normalize: \n",
    "$p^*\\approx[0.0, 0.412, 0.0, 0.235, 0.353]$.\n",
    "\n",
    "__Nucleus sampling:__ similar to top-k sampling, but this time we select $k$ dynamically. In nucleous sampling, we sample from top-__N%__ fraction of the probability mass.\n",
    "\n",
    "Using the same  $p=[0.1, 0.35, 0.05, 0.2, 0.3]$ and nucleous N=0.9, the nucleous words consist of:\n",
    "1. most likely token $w_2$, because $p(w_2) < N$\n",
    "2. second most likely token $w_5$, $p(w_2) + p(w_5) = 0.65 < N$\n",
    "3. third most likely token $w_4$ because $p(w_2) + p(w_5) + p(w_4) = 0.85 < N$\n",
    "\n",
    "And thats it, because the next most likely word would overflow: $p(w_2) + p(w_5) + p(w_4) + p(w_1) = 0.95 > N$.\n",
    "\n",
    "After you've selected the nucleous words, you need to re-normalize them as in top-k sampling and generate the next token.\n",
    "\n",
    "__Your task__ is to implement nucleus sampling variant and see if its any good."
   ]
  },
  {
   "cell_type": "code",
   "execution_count": 69,
   "metadata": {},
   "outputs": [],
   "source": [
    "def generate_nucleus(model, prefix=BOS, nucleus=0.9, max_len=100):\n",
    "    \"\"\"\n",
    "    Generate a sequence with nucleous sampling\n",
    "    :param prefix: a string containing space-separated previous tokens\n",
    "    :param nucleus: N from the formulae above, N \\in [0, 1]\n",
    "    :param max_len: generate sequences with at most this many tokens, including prefix\n",
    "    \n",
    "    :note: make sure that nucleous always contains at least one word, even if p(w*) > nucleus\n",
    "    \n",
    "    \"\"\"\n",
    "    with torch.no_grad():\n",
    "        while True:\n",
    "            token_probs = model.get_possible_next_tokens(prefix)\n",
    "            tokens, probs = zip(*token_probs.items())\n",
    "            \n",
    "            # YOUR CODE\n",
    "            \n",
    "            # sort probabilities and generate cumulative distribution to find nucleus from\n",
    "            probs_sorted = np.sort(probs)[::-1]\n",
    "            probs_cumsum = np.cumsum(probs_sorted) #cumsum of sorted probabilities\n",
    "            probs_cumsum /= probs_cumsum[-1] #normalize to 1, although it should be 1 already since they are softmax probs\n",
    "\n",
    "            # find the nucleus, the tokens that make up the top nucleus% of the probability mass\n",
    "            nucleus_mask = probs_cumsum < nucleus\n",
    "\n",
    "            # make sure that at least one token is selected\n",
    "            if nucleus_mask.sum() == 0:\n",
    "                # print('Probability mass is too concentrated on {}, selecting the top token'.format(prefix))\n",
    "                nucleus_mask[0] = True\n",
    "            \n",
    "            # sort tokens by probability and select the nucleus\n",
    "            tokens_sorted = np.array(tokens)[np.argsort(probs)[::-1]]\n",
    "            tokens_nucleus = tokens_sorted[nucleus_mask]\n",
    "            probs_nucleus = probs_sorted[nucleus_mask]\n",
    "            probs_nucleus /= probs_nucleus.sum() #normalize to 1, this one is not guaranteed to be 1 bc probs were masked\n",
    "\n",
    "            # select the next_token as before but now from the nucleus\n",
    "            next_token = np.random.choice(tokens_nucleus, p=probs_nucleus)\n",
    "\n",
    "            prefix += next_token\n",
    "            if next_token == EOS or len(prefix) > max_len: break\n",
    "    return prefix"
   ]
  },
  {
   "cell_type": "code",
   "execution_count": 70,
   "metadata": {},
   "outputs": [
    {
     "name": "stdout",
     "output_type": "stream",
     "text": [
      " Description Model Search ; This paper we propose a new approach for disease words of a new interface\n",
      " Accurate Markov Setting Regression for Dependency Proposal in Salogy Matrix Transform ; Samples of t\n",
      " Improving the Local Efficient and Devia a Low-Channels ; We consider method to describe the use a mo\n",
      " Book-Learning with Towards Applications ; We present a more use computer vision and expression of th\n",
      " Computational Best Detection to In Predictive Analysis ; In this paper, we introduce a new approach \n",
      " Deep Vector Discourse Classification ; Attracted with latent relationships in subset of the target d\n",
      " The Machine Learning and Semantic Context-to-Best Calcer Metric Generation ; In which is used to be \n",
      " Computing the User Level Recognition and Concepts for Big Solving ; We analyze the computer system c\n",
      " Correction Training in the Variational Correlation to Product Deep Remote Representation ; In this p\n",
      " Research that ; Representation of prediction using fast may a logic corpus botthough features can be\n"
     ]
    }
   ],
   "source": [
    "for i in range(10):\n",
    "    print(generate_nucleus(model))"
   ]
  },
  {
   "cell_type": "markdown",
   "metadata": {},
   "source": [
    "### Bonus quest I: Beam Search (2 pts incl. samples)\n",
    "\n",
    "At times, you don't really want the model to generate diverse outputs as much as you want a __single most likely hypothesis.__ A single best translation, most likely continuation of the search query given prefix, etc. Except, you can't get it. \n",
    "\n",
    "In order to find the exact most likely sequence containing 10 tokens, you would need to enumerate all $|V|^{10}$ possible hypotheses. In practice, 9 times out of 10 you will instead find an approximate most likely output using __beam search__.\n",
    "\n",
    "Here's how it works:\n",
    "\n",
    "0. Initial `beam` = [prefix], max beam_size = k\n",
    "1. for T steps:\n",
    "2. ` ... ` generate all possible next tokens for all hypotheses in beam, formulate `len(beam) * len(vocab)` candidates\n",
    "3. ` ... ` select beam_size best for all candidates as new `beam`\n",
    "4. Select best hypothesis (-es?) from beam"
   ]
  },
  {
   "cell_type": "code",
   "execution_count": null,
   "metadata": {},
   "outputs": [],
   "source": [
    "from IPython.display import HTML\n",
    "# Here's what it looks like:\n",
    "!wget -q https://raw.githubusercontent.com/yandexdataschool/nlp_course/2020/resources/beam_search.html\n",
    "HTML(\"beam_search.html\")"
   ]
  },
  {
   "cell_type": "code",
   "execution_count": null,
   "metadata": {},
   "outputs": [],
   "source": [
    "def generate_beamsearch(model, prefix=BOS, beam_size=4, length=5):\n",
    "    \"\"\"\n",
    "    Generate a sequence with nucleous sampling\n",
    "    :param prefix: a string containing space-separated previous tokens\n",
    "    :param length: generate sequences with at most this many tokens, NOT INCLUDING PREFIX\n",
    "    :returns: beam_size most likely candidates\n",
    "    :note: make sure that nucleous always contains at least one word, even if p(w*) > nucleus\n",
    "    \"\"\"\n",
    "    \n",
    "    <YOUR CODE HERE>\n",
    "    \n",
    "    return <most likely sequence>\n",
    "    "
   ]
  },
  {
   "cell_type": "code",
   "execution_count": null,
   "metadata": {},
   "outputs": [],
   "source": [
    "generate_beamsearch(model, prefix=' deep ', beam_size=4)"
   ]
  },
  {
   "cell_type": "code",
   "execution_count": null,
   "metadata": {
    "scrolled": true
   },
   "outputs": [],
   "source": [
    "# check it out: which beam size works best?\n",
    "# find at least 5 prefixes where beam_size=1 and 8 generates different sequences"
   ]
  },
  {
   "cell_type": "markdown",
   "metadata": {},
   "source": [
    "### Bonus quest II: Ultimate Language Model (2+ pts)\n",
    "\n",
    "So you've learned the building blocks of neural language models, you can now build the ultimate monster:  \n",
    "* Make it char-level, word level or maybe use sub-word units like [bpe](https://github.com/rsennrich/subword-nmt);\n",
    "* Combine convolutions, recurrent cells, pre-trained embeddings and all the black magic deep learning has to offer;\n",
    "  * Use strides to get larger window size quickly. Here's a [scheme](https://storage.googleapis.com/deepmind-live-cms/documents/BlogPost-Fig2-Anim-160908-r01.gif) from google wavenet.\n",
    "* Train on large data. Like... really large. Try [1 Billion Words](http://www.statmt.org/lm-benchmark/1-billion-word-language-modeling-benchmark-r13output.tar.gz) benchmark;\n",
    "* Use training schedules to speed up training. Start with small length and increase over time; Take a look at [one cycle](https://medium.com/@nachiket.tanksale/finding-good-learning-rate-and-the-one-cycle-policy-7159fe1db5d6) for learning rate;\n",
    "\n",
    "_You are NOT required to submit this assignment. Please make sure you don't miss your deadline because of it :)_"
   ]
  }
 ],
 "metadata": {
  "kernelspec": {
   "display_name": "base",
   "language": "python",
   "name": "python3"
  },
  "language_info": {
   "codemirror_mode": {
    "name": "ipython",
    "version": 3
   },
   "file_extension": ".py",
   "mimetype": "text/x-python",
   "name": "python",
   "nbconvert_exporter": "python",
   "pygments_lexer": "ipython3",
   "version": "3.10.9"
  }
 },
 "nbformat": 4,
 "nbformat_minor": 2
}
